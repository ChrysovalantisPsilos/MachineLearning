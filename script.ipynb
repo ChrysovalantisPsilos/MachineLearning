{
 "cells": [
  {
   "cell_type": "code",
   "execution_count": 1,
   "id": "70da1a57",
   "metadata": {
    "tags": []
   },
   "outputs": [
    {
     "name": "stdout",
     "output_type": "stream",
     "text": [
      "\n",
      "Columns with missing values:\n",
      "Series([], dtype: int64)\n"
     ]
    }
   ],
   "source": [
    "#Check if the dataset has missing values.\n",
    "import pandas as pd\n",
    "\n",
    "data_file_path = 'dataset/spambase_data'\n",
    "names_file_path = 'dataset/column_names.txt'\n",
    "\n",
    "with open(names_file_path, 'r') as file:\n",
    "    column_names = [line.strip() for line in file if line.strip()]\n",
    "\n",
    "column_names.append('is_spam')\n",
    "\n",
    "data = pd.read_csv(data_file_path, header=None, names=column_names)\n",
    "\n",
    "# Check for missing values\n",
    "missing_values = data.isnull().sum()\n",
    "\n",
    "# Print columns with missing values (if any)\n",
    "columns_with_missing_values = missing_values[missing_values > 0]\n",
    "print(\"\\nColumns with missing values:\")\n",
    "print(columns_with_missing_values)"
   ]
  },
  {
   "cell_type": "code",
   "execution_count": 2,
   "id": "fb2591e5",
   "metadata": {},
   "outputs": [],
   "source": [
    "#Data processing\n",
    "import numpy as np\n",
    "import pandas as pd\n",
    "\n",
    "\n",
    "#Modeling\n",
    "from sklearn.ensemble import RandomForestClassifier\n",
    "from sklearn.metrics import accuracy_score, confusion_matrix, precision_score, recall_score, ConfusionMatrixDisplay\n",
    "from sklearn.model_selection import RandomizedSearchCV, train_test_split\n",
    "from scipy.stats import randint\n",
    "\n",
    "#Tree visualisation\n",
    "from sklearn.tree import export_graphviz\n",
    "from IPython.display import Image\n",
    "\n",
    "\n"
   ]
  },
  {
   "cell_type": "code",
   "execution_count": 4,
   "id": "de4351bb-3626-48f4-8a74-4e97081bf581",
   "metadata": {
    "tags": []
   },
   "outputs": [
    {
     "name": "stdout",
     "output_type": "stream",
     "text": [
      "First five elements in X_train are:\n",
      " [[0.000e+00 6.400e-01 6.400e-01 0.000e+00 3.200e-01 0.000e+00 0.000e+00\n",
      "  0.000e+00 0.000e+00 0.000e+00 0.000e+00 6.400e-01 0.000e+00 0.000e+00\n",
      "  0.000e+00 3.200e-01 0.000e+00 1.290e+00 1.930e+00 0.000e+00 9.600e-01\n",
      "  0.000e+00 0.000e+00 0.000e+00 0.000e+00 0.000e+00 0.000e+00 0.000e+00\n",
      "  0.000e+00 0.000e+00 0.000e+00 0.000e+00 0.000e+00 0.000e+00 0.000e+00\n",
      "  0.000e+00 0.000e+00 0.000e+00 0.000e+00 0.000e+00 0.000e+00 0.000e+00\n",
      "  0.000e+00 0.000e+00 0.000e+00 0.000e+00 0.000e+00 0.000e+00 0.000e+00\n",
      "  0.000e+00 0.000e+00 7.780e-01 0.000e+00 0.000e+00 3.756e+00 6.100e+01\n",
      "  2.780e+02]\n",
      " [2.100e-01 2.800e-01 5.000e-01 0.000e+00 1.400e-01 2.800e-01 2.100e-01\n",
      "  7.000e-02 0.000e+00 9.400e-01 2.100e-01 7.900e-01 6.500e-01 2.100e-01\n",
      "  1.400e-01 1.400e-01 7.000e-02 2.800e-01 3.470e+00 0.000e+00 1.590e+00\n",
      "  0.000e+00 4.300e-01 4.300e-01 0.000e+00 0.000e+00 0.000e+00 0.000e+00\n",
      "  0.000e+00 0.000e+00 0.000e+00 0.000e+00 0.000e+00 0.000e+00 0.000e+00\n",
      "  0.000e+00 7.000e-02 0.000e+00 0.000e+00 0.000e+00 0.000e+00 0.000e+00\n",
      "  0.000e+00 0.000e+00 0.000e+00 0.000e+00 0.000e+00 0.000e+00 0.000e+00\n",
      "  1.320e-01 0.000e+00 3.720e-01 1.800e-01 4.800e-02 5.114e+00 1.010e+02\n",
      "  1.028e+03]\n",
      " [6.000e-02 0.000e+00 7.100e-01 0.000e+00 1.230e+00 1.900e-01 1.900e-01\n",
      "  1.200e-01 6.400e-01 2.500e-01 3.800e-01 4.500e-01 1.200e-01 0.000e+00\n",
      "  1.750e+00 6.000e-02 6.000e-02 1.030e+00 1.360e+00 3.200e-01 5.100e-01\n",
      "  0.000e+00 1.160e+00 6.000e-02 0.000e+00 0.000e+00 0.000e+00 0.000e+00\n",
      "  0.000e+00 0.000e+00 0.000e+00 0.000e+00 0.000e+00 0.000e+00 0.000e+00\n",
      "  0.000e+00 0.000e+00 0.000e+00 0.000e+00 6.000e-02 0.000e+00 0.000e+00\n",
      "  1.200e-01 0.000e+00 6.000e-02 6.000e-02 0.000e+00 0.000e+00 1.000e-02\n",
      "  1.430e-01 0.000e+00 2.760e-01 1.840e-01 1.000e-02 9.821e+00 4.850e+02\n",
      "  2.259e+03]\n",
      " [0.000e+00 0.000e+00 0.000e+00 0.000e+00 6.300e-01 0.000e+00 3.100e-01\n",
      "  6.300e-01 3.100e-01 6.300e-01 3.100e-01 3.100e-01 3.100e-01 0.000e+00\n",
      "  0.000e+00 3.100e-01 0.000e+00 0.000e+00 3.180e+00 0.000e+00 3.100e-01\n",
      "  0.000e+00 0.000e+00 0.000e+00 0.000e+00 0.000e+00 0.000e+00 0.000e+00\n",
      "  0.000e+00 0.000e+00 0.000e+00 0.000e+00 0.000e+00 0.000e+00 0.000e+00\n",
      "  0.000e+00 0.000e+00 0.000e+00 0.000e+00 0.000e+00 0.000e+00 0.000e+00\n",
      "  0.000e+00 0.000e+00 0.000e+00 0.000e+00 0.000e+00 0.000e+00 0.000e+00\n",
      "  1.370e-01 0.000e+00 1.370e-01 0.000e+00 0.000e+00 3.537e+00 4.000e+01\n",
      "  1.910e+02]\n",
      " [0.000e+00 0.000e+00 0.000e+00 0.000e+00 6.300e-01 0.000e+00 3.100e-01\n",
      "  6.300e-01 3.100e-01 6.300e-01 3.100e-01 3.100e-01 3.100e-01 0.000e+00\n",
      "  0.000e+00 3.100e-01 0.000e+00 0.000e+00 3.180e+00 0.000e+00 3.100e-01\n",
      "  0.000e+00 0.000e+00 0.000e+00 0.000e+00 0.000e+00 0.000e+00 0.000e+00\n",
      "  0.000e+00 0.000e+00 0.000e+00 0.000e+00 0.000e+00 0.000e+00 0.000e+00\n",
      "  0.000e+00 0.000e+00 0.000e+00 0.000e+00 0.000e+00 0.000e+00 0.000e+00\n",
      "  0.000e+00 0.000e+00 0.000e+00 0.000e+00 0.000e+00 0.000e+00 0.000e+00\n",
      "  1.350e-01 0.000e+00 1.350e-01 0.000e+00 0.000e+00 3.537e+00 4.000e+01\n",
      "  1.910e+02]]\n",
      "Type of X_train: <class 'numpy.ndarray'>\n"
     ]
    }
   ],
   "source": [
    "#Split the data into features (X) and target (y)\n",
    "from utils import *\n",
    "X_train, y_train = load_data(\"dataset/spambase_data\")\n",
    "\n",
    "\n",
    "\n",
    "#Visualize the data\n",
    "print(\"First five elements in X_train are:\\n\", X_train[:5])\n",
    "print(\"Type of X_train:\",type(X_train))"
   ]
  },
  {
   "cell_type": "code",
   "execution_count": null,
   "id": "56a23b1b-8312-496d-91a1-bd944d9d5115",
   "metadata": {},
   "outputs": [],
   "source": []
  },
  {
   "cell_type": "code",
   "execution_count": null,
   "id": "999b8296-5545-41d1-a9e6-1f0876d85b90",
   "metadata": {},
   "outputs": [],
   "source": []
  }
 ],
 "metadata": {
  "kernelspec": {
   "display_name": "Python 3 (ipykernel)",
   "language": "python",
   "name": "python3"
  },
  "language_info": {
   "codemirror_mode": {
    "name": "ipython",
    "version": 3
   },
   "file_extension": ".py",
   "mimetype": "text/x-python",
   "name": "python",
   "nbconvert_exporter": "python",
   "pygments_lexer": "ipython3",
   "version": "3.11.5"
  }
 },
 "nbformat": 4,
 "nbformat_minor": 5
}
