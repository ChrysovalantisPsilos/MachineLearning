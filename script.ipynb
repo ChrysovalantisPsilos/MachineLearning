{
 "cells": [
  {
   "cell_type": "markdown",
   "id": "4d98853a-27c1-4ff1-8452-33ce58fa89a8",
   "metadata": {
    "tags": []
   },
   "source": [
    "# Email classification using Random forest trees and Linear Regression\n",
    "In this project we will train a random forest algorithm and apply it a spambase dataset."
   ]
  },
  {
   "cell_type": "markdown",
   "id": "1f6d5516-bc23-40b8-88c0-da41f530ea6e",
   "metadata": {},
   "source": [
    "# Outline\n",
    "- [ 1 - Packages ](#1)\n",
    "- [ 2 - Dataset ](#2)"
   ]
  },
  {
   "cell_type": "markdown",
   "id": "c726c4e4-4de9-4e63-9953-df04baddf0b2",
   "metadata": {},
   "source": [
    "<a name=\"1\"></a>\n",
    "## 1 - Packages \n",
    " We will start by importing all the necessary packages for this project.\n",
    " - [scikit-learn](https://scikit-learn.org/stable/index.html) is a library used for the random forest implementation"
   ]
  },
  {
   "cell_type": "code",
   "execution_count": 21,
   "id": "423a221f-eb92-40f1-b1e7-3f9ba7371172",
   "metadata": {
    "tags": []
   },
   "outputs": [],
   "source": [
    "\n",
    "#Data visualization\n",
    "import pandas as pd\n",
    "import numpy as np\n",
    "import matplotlib.pyplot as plt\n",
    "import seaborn as sns\n",
    "\n",
    "#Modeling\n",
    "from sklearn.ensemble import RandomForestClassifier\n",
    "from sklearn.metrics import accuracy_score, confusion_matrix, precision_score, recall_score, ConfusionMatrixDisplay, classification_report, f1_score\n",
    "from sklearn.model_selection import RandomizedSearchCV, train_test_split\n",
    "from scipy.stats import randint\n",
    "\n",
    "#Tree visualisation\n",
    "from sklearn.tree import export_graphviz\n",
    "from IPython.display import Image\n"
   ]
  },
  {
   "cell_type": "markdown",
   "id": "3fbbe119-7d10-410e-a35c-9e72982f9062",
   "metadata": {},
   "source": [
    "<a name=\"2\"></a>\n",
    "## 2 - Dataset\n",
    "We will be working with the  [spambase](https://archive.ics.uci.edu/dataset/94/spambase) dataset provided by the UCI machine learning repository. This dataset has 57 features and 1 target.\n",
    "We start by checking the dataset for missing values:"
   ]
  },
  {
   "cell_type": "code",
   "execution_count": 22,
   "id": "af0bb474-d405-4c5b-90d9-1eaa5ad433e2",
   "metadata": {
    "tags": []
   },
   "outputs": [
    {
     "name": "stdout",
     "output_type": "stream",
     "text": [
      "\n",
      "Columns with missing values:\n",
      "Series([], dtype: int64)\n"
     ]
    }
   ],
   "source": [
    "#Check if the dataset has missing values.\n",
    "\n",
    "data_file_path = 'dataset/spambase_data'\n",
    "names_file_path = 'dataset/column_names.txt'\n",
    "\n",
    "with open(names_file_path, 'r') as file:\n",
    "    column_names = [line.strip() for line in file if line.strip()]\n",
    "\n",
    "column_names.append('is_spam')\n",
    "\n",
    "data = pd.read_csv(data_file_path, header=None, names=column_names)\n",
    "\n",
    "# Check for missing values\n",
    "missing_values = data.isnull().sum()\n",
    "\n",
    "# Print columns with missing values (if any)\n",
    "columns_with_missing_values = missing_values[missing_values > 0]\n",
    "print(\"\\nColumns with missing values:\")\n",
    "print(columns_with_missing_values)"
   ]
  },
  {
   "cell_type": "markdown",
   "id": "eb6172f3-f213-4b88-ba8d-fb89b24f034e",
   "metadata": {},
   "source": [
    "As you can see the dataset has no missing values. Thus, we can move on by checking the balance of the dataset"
   ]
  },
  {
   "cell_type": "code",
   "execution_count": 24,
   "id": "e33780b2-9578-4f30-85d4-cf5258da9eda",
   "metadata": {
    "tags": []
   },
   "outputs": [
    {
     "name": "stdout",
     "output_type": "stream",
     "text": [
      "\n",
      "Class distribution in 'is_spam':\n",
      "is_spam\n",
      "0    2788\n",
      "1    1813\n",
      "Name: count, dtype: int64\n",
      "\n",
      "Percentage distribution:\n",
      "is_spam\n",
      "0    60.595523\n",
      "1    39.404477\n",
      "Name: count, dtype: float64\n"
     ]
    }
   ],
   "source": [
    "# Check for balance\n",
    "class_distribution = data['is_spam'].value_counts()\n",
    "print(\"\\nClass distribution in 'is_spam':\")\n",
    "print(class_distribution)\n",
    "\n",
    "# Assessing the balance\n",
    "total_samples = len(data)\n",
    "balance_info = class_distribution / total_samples * 100\n",
    "print(\"\\nPercentage distribution:\")\n",
    "print(balance_info)"
   ]
  },
  {
   "cell_type": "markdown",
   "id": "9537223b-7542-4b14-9a57-f423311f6ed4",
   "metadata": {
    "tags": []
   },
   "source": [
    "From the code above, we can see that 60.60% of our emails are spam while the rest is non-spam (39.40%). While this dataset is not ideally balanced (50%-50% distribution) the difference is not so large as to cause significant concerns and the random forest should perform reasonably well. However we will keep an eye on the F1-Score to ensure that the model is performing well across both classes. If it is evident that the model is not performing as intended, we will balance the dataset and try again."
   ]
  },
  {
   "cell_type": "markdown",
   "id": "52c51abe-3d4e-4efb-9d69-022f8edc2740",
   "metadata": {},
   "source": [
    "Next, we load the dataset in the variables X_train, X_test, y_train, y_test. We use a common 80% - 20% data split to train and evaluate the model."
   ]
  },
  {
   "cell_type": "code",
   "execution_count": 27,
   "id": "de4351bb-3626-48f4-8a74-4e97081bf581",
   "metadata": {
    "tags": []
   },
   "outputs": [],
   "source": [
    "#Split the data into features (X) and target (y)\n",
    "#disable scientific notation\n",
    "np.set_printoptions(suppress=True)\n",
    "\n",
    "def load_data(filename):\n",
    "    data = np.loadtxt(filename, delimiter=',')\n",
    "    X = data[:,:57]\n",
    "    y = data[:,57]\n",
    "    X_train, X_test, y_train, y_test = train_test_split(X,y,test_size=0.2, random_state=42)\n",
    "    return X_train, y_train, X_test, y_test\n",
    "\n",
    "X_train, y_train, X_test, y_test = load_data(\"dataset/spambase_data\")"
   ]
  },
  {
   "cell_type": "markdown",
   "id": "99b324a5-de50-46a1-9a92-ec09a67aff2e",
   "metadata": {},
   "source": [
    "It is always a good practise to visualise the data before we start working with it:"
   ]
  },
  {
   "cell_type": "code",
   "execution_count": 28,
   "id": "ef40d7ad-c034-4946-86ea-364ad6c2cd87",
   "metadata": {
    "tags": []
   },
   "outputs": [
    {
     "name": "stdout",
     "output_type": "stream",
     "text": [
      "First five elements in X_train are:\n",
      " [[   0.09     0.       0.09     0.       0.39     0.09     0.09     0.\n",
      "     0.19     0.29     0.39     0.48     0.       0.58     0.       0.87\n",
      "     0.19     0.       1.66     4.1      1.66     0.       0.39     0.19\n",
      "     0.       0.       0.       0.       0.       0.       0.       0.\n",
      "     0.       0.       0.       0.       0.       0.       0.       0.\n",
      "     0.       0.       0.       0.       0.       0.       0.       0.\n",
      "     0.       0.139    0.       0.31     0.155    0.       6.813  494.\n",
      "  1458.   ]\n",
      " [   0.       0.       0.       0.       0.       0.       0.       0.\n",
      "     0.       0.       0.       1.58     0.       0.       0.       0.\n",
      "     0.       0.       0.79     0.       0.79     0.       0.       0.\n",
      "     0.       0.       0.       0.       0.       0.       0.       0.\n",
      "     0.       0.       0.       0.       0.       0.       0.       0.\n",
      "     0.       0.       0.79     0.       0.       0.       0.       0.\n",
      "     0.124    0.124    0.       0.       0.       0.       1.8      8.\n",
      "    45.   ]\n",
      " [   0.       0.       2.43     0.       0.       0.       0.       0.\n",
      "     0.27     0.       0.       2.16     0.       0.       0.       0.\n",
      "     0.       0.       0.27     0.       1.62     0.       0.       0.\n",
      "     0.27     0.54     0.       0.       0.27     0.       0.       0.\n",
      "     0.27     0.       0.       0.       0.       0.       0.       0.27\n",
      "     0.       0.       0.       0.       0.       0.       0.       0.\n",
      "     0.       0.344    0.       0.       0.       0.       2.319   12.\n",
      "   167.   ]\n",
      " [   0.       0.       0.       0.       1.31     0.       1.31     1.31\n",
      "     1.31     1.31     0.       0.       0.       0.       0.       0.\n",
      "     1.31     0.       1.31     1.31     3.94     0.       0.       0.\n",
      "     0.       0.       0.       0.       0.       0.       0.       0.\n",
      "     0.       0.       0.       0.       0.       0.       0.       0.\n",
      "     0.       0.       0.       0.       0.       0.       0.       0.\n",
      "     0.       0.       0.       0.117    0.117    0.      48.5    186.\n",
      "   291.   ]\n",
      " [   0.       0.       0.       0.       0.       0.       0.       0.\n",
      "     0.       0.       0.       1.36     0.       0.       0.       0.\n",
      "     0.       0.       1.36     0.       5.47     0.       0.       0.\n",
      "     0.       0.       1.36     0.       0.       0.       0.       0.\n",
      "     0.       0.       0.       0.       0.       0.       0.       0.\n",
      "     0.       0.       0.       0.       0.       0.       0.       0.\n",
      "     0.       0.       0.       0.       0.       0.       2.307    8.\n",
      "    30.   ]]\n",
      "Type of X_train: <class 'numpy.ndarray'>\n",
      "First five elements in y_train are:\n",
      " [1. 0. 0. 1. 0.]\n",
      "Type of y_train: <class 'numpy.ndarray'>\n",
      "First five elements in X_test are:\n",
      " [[  0.      0.      0.      0.      0.      0.      0.      0.      0.\n",
      "    0.      0.      0.      0.      0.      0.      0.      0.      0.\n",
      "    0.      0.      0.      0.      0.      0.      0.      0.      0.\n",
      "    0.      0.      0.      0.      0.      0.      0.      0.      0.\n",
      "    0.      0.      0.      0.      0.      0.      0.      0.      0.\n",
      "    0.      0.      0.      0.      0.      0.      0.      0.      0.\n",
      "    1.      1.      3.   ]\n",
      " [  0.71    0.      0.71    0.      0.      0.      0.      0.      0.\n",
      "    0.71    0.      1.43    0.      0.      0.      1.43    0.      0.\n",
      "    1.43    0.      0.      0.      0.      0.      0.      0.      0.\n",
      "    0.      0.      0.      0.      0.      0.      0.      0.      0.\n",
      "    0.      0.      0.      0.      0.      0.      0.      0.      0.\n",
      "    1.43    0.      0.      0.      0.      0.      0.      0.      0.\n",
      "    1.032   2.     32.   ]\n",
      " [  0.      0.      0.91    0.      0.      0.      0.      0.45    0.\n",
      "    0.      0.      0.      0.      0.      0.      0.      0.      0.\n",
      "    2.28    0.      0.      0.      0.      0.      0.91    0.91    0.\n",
      "    0.      0.      0.      0.      0.      0.      0.      0.45    0.\n",
      "    0.      0.      0.      0.      0.      0.      0.      0.      0.\n",
      "    0.      0.      0.      0.      0.      0.      0.      0.      0.\n",
      "    1.32    7.    103.   ]\n",
      " [  0.      0.      0.      0.      0.      0.      0.      0.      0.\n",
      "    0.      0.      0.      0.      0.      0.      0.      0.      0.\n",
      "    0.      0.      0.      0.      1.96    0.      0.      0.      0.\n",
      "    0.      0.      0.      0.      0.      0.      0.      0.      0.\n",
      "    1.96    0.      0.      0.      0.      0.      0.      0.      0.\n",
      "    0.      0.      0.      0.      0.201   0.      0.      0.1     0.\n",
      "    4.548  59.    141.   ]\n",
      " [  0.      0.      0.54    0.      0.      0.      0.      0.      0.\n",
      "    0.      0.      0.27    0.      0.      0.      0.      0.      0.\n",
      "    3.29    0.      0.      0.      0.      0.      0.      0.      0.\n",
      "    0.      0.      0.      0.      0.      0.      0.      0.      0.\n",
      "    0.27    0.      0.27    0.      0.54    0.      0.27    0.      0.27\n",
      "    0.27    0.      0.      0.      0.188   0.047   0.      0.      0.\n",
      "    1.745  12.     89.   ]]\n",
      "Type of X_test: <class 'numpy.ndarray'>\n",
      "First five elements in y_test are:\n",
      " [0. 0. 0. 1. 0.]\n",
      "Type of y_test: <class 'numpy.ndarray'>\n"
     ]
    }
   ],
   "source": [
    "#CODE FROM ASSIGNMENTS STARTS HERE\n",
    "#View variables\n",
    "print(\"First five elements in X_train are:\\n\", X_train[:5])\n",
    "print(\"Type of X_train:\",type(X_train))\n",
    "\n",
    "print(\"First five elements in y_train are:\\n\", y_train[:5])\n",
    "print(\"Type of y_train:\", type(y_train))\n",
    "\n",
    "print(\"First five elements in X_test are:\\n\", X_test[:5])\n",
    "print(\"Type of X_test:\",type(X_test))\n",
    "\n",
    "print(\"First five elements in y_test are:\\n\", y_test[:5])\n",
    "print(\"Type of y_test:\", type(y_test))\n",
    "\n"
   ]
  },
  {
   "cell_type": "markdown",
   "id": "49d1aa06-f9ba-40c3-8549-82396243136e",
   "metadata": {},
   "source": [
    "Another usefull way to get familiar with the dataset is to view its dimensions."
   ]
  },
  {
   "cell_type": "code",
   "execution_count": 29,
   "id": "56a23b1b-8312-496d-91a1-bd944d9d5115",
   "metadata": {},
   "outputs": [
    {
     "name": "stdout",
     "output_type": "stream",
     "text": [
      "The shape of X_train is:(3680, 57)\n",
      "The shape of y_train is:(3680,)\n",
      "We have m= 3680 training examples\n",
      "The shape of X_test is:(921, 57)\n",
      "The shape of y_train is:(921,)\n",
      "We have m= 921 training examples\n"
     ]
    }
   ],
   "source": [
    "#Check dimensions of train sample\n",
    "print('The shape of X_train is:' + str(X_train.shape))\n",
    "print('The shape of y_train is:' + str(y_train.shape))\n",
    "print('We have m= %d training examples' % (len(y_train)))\n",
    "\n",
    "#Check dimensions of test sample\n",
    "print('The shape of X_test is:' + str(X_test.shape))\n",
    "print('The shape of y_train is:' + str(y_test.shape))\n",
    "print('We have m= %d training examples' % (len(y_test)))"
   ]
  },
  {
   "cell_type": "markdown",
   "id": "34c0ab21-c509-4ff8-b9a2-df31845853dc",
   "metadata": {},
   "source": [
    "Now, we can start implementing the random forest tree. The random_state doesnt affect the performance of the model. It ensures that the randomness in the process is consistent across different runs:"
   ]
  },
  {
   "cell_type": "code",
   "execution_count": 31,
   "id": "999b8296-5545-41d1-a9e6-1f0876d85b90",
   "metadata": {},
   "outputs": [],
   "source": [
    "rf_classifier = RandomForestClassifier(random_state=42)\n",
    "rf_classifier.fit(X_train, y_train)\n",
    "y_pred = rf_classifier.predict(X_test)"
   ]
  },
  {
   "cell_type": "markdown",
   "id": "25e098c3-989e-4c5f-9a1a-d2ace5c62ff2",
   "metadata": {},
   "source": [
    "The model is trained. We can check its performance:"
   ]
  },
  {
   "cell_type": "code",
   "execution_count": 32,
   "id": "aaa18795-87e8-4cea-b8d1-a712ebfc1f33",
   "metadata": {
    "tags": []
   },
   "outputs": [
    {
     "name": "stdout",
     "output_type": "stream",
     "text": [
      "Accuracy:  0.9554831704668838\n",
      "Classification report: \n",
      "               precision    recall  f1-score   support\n",
      "\n",
      "         0.0       0.94      0.98      0.96       531\n",
      "         1.0       0.98      0.92      0.95       390\n",
      "\n",
      "    accuracy                           0.96       921\n",
      "   macro avg       0.96      0.95      0.95       921\n",
      "weighted avg       0.96      0.96      0.96       921\n",
      "\n"
     ]
    }
   ],
   "source": [
    "accuracy= accuracy_score(y_test, y_pred)\n",
    "classification_rep = classification_report(y_test, y_pred)\n",
    "print(\"Accuracy: \", accuracy)\n",
    "print(\"Classification report: \\n\", classification_rep)\n"
   ]
  },
  {
   "cell_type": "markdown",
   "id": "d8807ef2-e7fa-46eb-af86-7192c6bbf122",
   "metadata": {},
   "source": [
    "The precision indicates how accurate the predictions are, with the model showing very high precision for both classes. Recall reflects the model's ability to find all the relevant instances in the dataset, which is also high for both classes. The F1-score combines precision and recall into a single metric, which is particularly high for both classes, suggesting a well-performing model."
   ]
  },
  {
   "cell_type": "code",
   "execution_count": 17,
   "id": "63eb5112-93c0-40c5-97e8-6b5ec1b091cb",
   "metadata": {
    "tags": []
   },
   "outputs": [
    {
     "data": {
      "image/png": "[encoded data removed]",
      "text/plain": [
       "<Figure size 600x400 with 1 Axes>"
      ]
     },
     "metadata": {},
     "output_type": "display_data"
    },
    {
     "data": {
      "image/png": "[encoded data removed]",
      "text/plain": [
       "<Figure size 800x600 with 2 Axes>"
      ]
     },
     "metadata": {},
     "output_type": "display_data"
    }
   ],
   "source": [
    "# Calculating F1-score\n",
    "f1 = f1_score(y_test, y_pred, average='weighted')\n",
    "\n",
    "# Calculating confusion matrix\n",
    "conf_matrix = confusion_matrix(y_test, y_pred)\n",
    "\n",
    "# Plotting F1-score\n",
    "plt.figure(figsize=(6, 4))\n",
    "sns.barplot(x=['F1-Score'], y=[f1])\n",
    "plt.ylim(0, 1)\n",
    "plt.title('F1-Score of the Model')\n",
    "plt.ylabel('Score')\n",
    "plt.show()\n",
    "\n",
    "# Plotting confusion matrix\n",
    "plt.figure(figsize=(8, 6))\n",
    "sns.heatmap(conf_matrix, annot=True, fmt='d', cmap='Blues', xticklabels=['Not Spam', 'Spam'], yticklabels=['Not Spam', 'Spam'])\n",
    "plt.title('Confusion Matrix')\n",
    "plt.ylabel('Actual Label')\n",
    "plt.xlabel('Predicted Label')\n",
    "plt.show()"
   ]
  },
  {
   "cell_type": "markdown",
   "id": "3b3951f0-eceb-4fe6-add3-91158f8779c7",
   "metadata": {},
   "source": [
    "The weighted average F1-score is approximately 0.955, which indicates that the model has a good balance between precision and recall for the dataset, taking into account the number of instances for each class.\n",
    "\n",
    "The confusion matrix provides a breakdown of the true positives, false positives, true negatives, and false negatives:\n",
    "\n",
    "True Non-Spam Predictions: 522\n",
    "False Spam Predictions (Type I error): 9\n",
    "False Non-Spam Predictions (Type II error): 32\n",
    "True Spam Predictions: 358\n",
    "The model has a higher number of false negatives (32) compared to false positives (9). This suggests that while the model is quite conservative in predicting spam (preferring to minimize false positives), it might be missing some actual spam emails (as indicated by the false negatives). \n",
    "Given the high performance metrics across the board, there doesn't seem to be a strong immediate need to balance the dataset further. Both classes are being predicted with high accuracy, precision, and recall, and the F1-scores are also strong. The slight imbalance in the dataset does not seem to be negatively impacting the model's ability to generalize."
   ]
  },
  {
   "cell_type": "markdown",
   "id": "c731e646-2ea7-43d8-be0d-d6d523534383",
   "metadata": {},
   "source": [
    "We will try to tune the hyperparameters to check if the models performance can be improved:"
   ]
  },
  {
   "cell_type": "code",
   "execution_count": 43,
   "id": "e732b763-7ec2-4d66-bd60-8acabb37296c",
   "metadata": {
    "tags": []
   },
   "outputs": [
    {
     "name": "stdout",
     "output_type": "stream",
     "text": [
      "Best hyperparameters: RandomForestClassifier(max_depth=11, n_estimators=297, random_state=42)\n"
     ]
    }
   ],
   "source": [
    "param_dist = {'n_estimators': randint(50,500), 'max_depth': randint(1,20)}\n",
    "\n",
    "rf=RandomForestClassifier(random_state=42)\n",
    "\n",
    "rand_search = RandomizedSearchCV(rf, param_distributions = param_dist, n_iter=5, cv=5)\n",
    "\n",
    "rand_search.fit(X_train,y_train)\n",
    "\n",
    "best_rf = rand_search.best_estimator_\n",
    "\n",
    "print(\"Best hyperparameters:\", best_rf)"
   ]
  },
  {
   "cell_type": "code",
   "execution_count": null,
   "id": "4c38ff23-edc5-4e7d-a204-caba019f450e",
   "metadata": {},
   "outputs": [],
   "source": []
  }
 ],
 "metadata": {
  "kernelspec": {
   "display_name": "Python 3 (ipykernel)",
   "language": "python",
   "name": "python3"
  },
  "language_info": {
   "codemirror_mode": {
    "name": "ipython",
    "version": 3
   },
   "file_extension": ".py",
   "mimetype": "text/x-python",
   "name": "python",
   "nbconvert_exporter": "python",
   "pygments_lexer": "ipython3",
   "version": "3.11.5"
  }
 },
 "nbformat": 4,
 "nbformat_minor": 5
}
