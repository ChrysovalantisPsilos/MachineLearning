{
 "cells": [
  {
   "cell_type": "markdown",
   "id": "4d98853a-27c1-4ff1-8452-33ce58fa89a8",
   "metadata": {
    "tags": []
   },
   "source": [
    "# Email classification using Random forest trees and Linear Regression\n",
    "In this project we will train a random forest algorithm and apply it a spambase dataset."
   ]
  },
  {
   "cell_type": "markdown",
   "id": "1f6d5516-bc23-40b8-88c0-da41f530ea6e",
   "metadata": {},
   "source": [
    "# Outline\n",
    "- [ 0 - Problem description ](#0)\n",
    "- [ 1 - Packages ](#1)\n",
    "- [ 2 - Dataset ](#2)\n",
    "- [ 3 - Loading data ](#3)\n",
    "- [ 4 - RF Model ](#4)\n",
    "- [ 5 - Logistic regression model ](#5)"
   ]
  },
  {
   "cell_type": "markdown",
   "id": "9ff05cb6-7ffc-4c38-b4d9-1909416b85ff",
   "metadata": {
    "tags": []
   },
   "source": [
    "<a name=\"0\"></a>\n",
    "## 0 - Problem description "
   ]
  },
  {
   "cell_type": "markdown",
   "id": "4a74b40f-b95e-4ce4-a9f2-71fd8190ac5e",
   "metadata": {},
   "source": [
    "Spam email is unsolicited and unwanted junk email that is sent out in bulk to an indiscriminate recipient list. Typically, spam is sent for commercial purposes. It can be sent in massive volumes using botnets, networks of infected computers. Apart from commercial purposes, spam email is sent for malicious purposes as well such as money scams and phishing attacks. Although the context of a spam email can vary significantly, there are some keywords that most of them use. The challenge is to accurately identify these emails so they can be filtered out before reaching the user’s inbox.\n",
    "\n",
    "## Dataset description\n",
    "\n",
    "We will make use of the following dataset:  \n",
    "Hopkins,Mark, Reeber,Erik, Forman,George, and Suermondt,Jaap. (1999). Spambase. UCI Machine Learning Repository. https://doi.org/10.24432/C53G6X.\n",
    "This dataset contains 4601 instances which makes it suitable for our classification task as it meets the requirement of having more than 300 samples per class. Furthermore, it has a well-defined task, that is to classify emails as spam or non-spam.\n",
    "This dataset contains:\n",
    "- 48 continuous real [0,100] attributes of type word_freq_WORD \n",
    "= percentage of words in the e-mail that match WORD, i.e. 100 * (number of times the WORD appears in the e-mail) / total number of words in e-mail.  A \"word\" in this case is any string of alphanumeric characters bounded by non-alphanumeric characters or end-of-string.\n",
    "\n",
    "- 6 continuous real [0,100] attributes of type char_freq_CHAR] \n",
    "= percentage of characters in the e-mail that match CHAR, i.e. 100 * (number of CHAR occurences) / total characters in e-mail\n",
    "\n",
    "- 1 continuous real [1,...] attribute of type capital_run_length_average \n",
    "= average length of uninterrupted sequences of capital letters\n",
    "\n",
    "- 1 continuous integer [1,...] attribute of type capital_run_length_longest \n",
    "= length of longest uninterrupted sequence of capital letters\n",
    "\n",
    "- 1 continuous integer [1,...] attribute of type capital_run_length_total \n",
    "= sum of length of uninterrupted sequences of capital letters \n",
    "= total number of capital letters in the e-mail\n",
    "\n",
    "- 1 nominal {0,1} class attribute of type spam\n",
    "= denotes whether the e-mail was considered spam (1) or not (0), i.e. unsolicited commercial e-mail.  \n",
    "\n",
    "According to the UCI repository this data set has some missing values, however, we couldn’t locate any after manually inspecting it.\n",
    "\n",
    "## Method\n",
    "We are planning to use a random forest classification algorithm that creates a “forest” of random decision trees using random subsets of the data and features. More specifically, each tree in the forest makes an independent prediction, and the class with the majority vote becomes the model's prediction. This algorithm is robust to overfitting due to the averaging of results and the randomness helps to make the model more diverse, thus increasing its accuracy.\n"
   ]
  },
  {
   "cell_type": "markdown",
   "id": "c726c4e4-4de9-4e63-9953-df04baddf0b2",
   "metadata": {},
   "source": [
    "<a name=\"1\"></a>\n",
    "## 1 - Packages \n",
    " We will start by importing all the necessary packages for this project.\n",
    " - [scikit-learn](https://scikit-learn.org/stable/index.html) is a library used for the random forest implementation.\n",
    " - [numpy](www.numpy.org) is the fundamental package for scientific computing with Python.\n",
    " - [matplotlib](http://matplotlib.org) is a famous library to plot graphs in Python."
   ]
  },
  {
   "cell_type": "code",
   "execution_count": 74,
   "id": "423a221f-eb92-40f1-b1e7-3f9ba7371172",
   "metadata": {
    "tags": []
   },
   "outputs": [],
   "source": [
    "#Data visualization\n",
    "import pandas as pd\n",
    "import numpy as np\n",
    "import matplotlib.pyplot as plt\n",
    "import seaborn as sns\n",
    "\n",
    "#Modeling\n",
    "from sklearn.ensemble import RandomForestClassifier\n",
    "from sklearn.metrics import accuracy_score, confusion_matrix, precision_score, recall_score, ConfusionMatrixDisplay, classification_report, f1_score\n",
    "from sklearn.model_selection import RandomizedSearchCV, train_test_split\n",
    "from scipy.stats import randint\n",
    "\n",
    "#Tree visualisation\n",
    "from sklearn.tree import export_graphviz\n",
    "from IPython.display import Image"
   ]
  },
  {
   "cell_type": "markdown",
   "id": "3fbbe119-7d10-410e-a35c-9e72982f9062",
   "metadata": {
    "tags": []
   },
   "source": [
    "<a name=\"2\"></a>\n",
    "## 2 - Dataset\n",
    "We will be working with the [spambase](https://archive.ics.uci.edu/dataset/94/spambase) dataset provided by the UCI machine learning repository. This dataset has 57 features and 1 target.\n",
    "We start by checking the dataset for any missing values:"
   ]
  },
  {
   "cell_type": "code",
   "execution_count": 75,
   "id": "af0bb474-d405-4c5b-90d9-1eaa5ad433e2",
   "metadata": {
    "tags": []
   },
   "outputs": [
    {
     "name": "stdout",
     "output_type": "stream",
     "text": [
      "\n",
      "Columns with missing values:\n",
      "Series([], dtype: int64)\n"
     ]
    }
   ],
   "source": [
    "data_file_path = 'dataset/spambase_data'\n",
    "names_file_path = 'dataset/column_names.txt'\n",
    "\n",
    "with open(names_file_path, 'r') as file:\n",
    "    column_names = [line.strip() for line in file if line.strip()]\n",
    "\n",
    "column_names.append('is_spam')\n",
    "\n",
    "data = pd.read_csv(data_file_path, header=None, names=column_names)\n",
    "\n",
    "# Check for missing values\n",
    "missing_values = data.isnull().sum()\n",
    "\n",
    "# Print columns with missing values (if any)\n",
    "columns_with_missing_values = missing_values[missing_values > 0]\n",
    "print(\"\\nColumns with missing values:\")\n",
    "print(columns_with_missing_values)"
   ]
  },
  {
   "cell_type": "markdown",
   "id": "eb6172f3-f213-4b88-ba8d-fb89b24f034e",
   "metadata": {},
   "source": [
    "As you can see, the dataset has no missing values. Thus, we can move on by checking the balance of the dataset:"
   ]
  },
  {
   "cell_type": "code",
   "execution_count": 76,
   "id": "e33780b2-9578-4f30-85d4-cf5258da9eda",
   "metadata": {
    "tags": []
   },
   "outputs": [
    {
     "name": "stdout",
     "output_type": "stream",
     "text": [
      "\n",
      "Class distribution in 'is_spam':\n",
      "is_spam\n",
      "0    2788\n",
      "1    1813\n",
      "Name: count, dtype: int64\n",
      "\n",
      "Percentage distribution:\n",
      "is_spam\n",
      "0    60.595523\n",
      "1    39.404477\n",
      "Name: count, dtype: float64\n"
     ]
    }
   ],
   "source": [
    "# Check for balance\n",
    "class_distribution = data['is_spam'].value_counts()\n",
    "print(\"\\nClass distribution in 'is_spam':\")\n",
    "print(class_distribution)\n",
    "\n",
    "# Assessing the balance\n",
    "total_samples = len(data)\n",
    "balance_info = class_distribution / total_samples * 100\n",
    "print(\"\\nPercentage distribution:\")\n",
    "print(balance_info)"
   ]
  },
  {
   "cell_type": "markdown",
   "id": "9537223b-7542-4b14-9a57-f423311f6ed4",
   "metadata": {
    "tags": []
   },
   "source": [
    "From the code above, we can see that 60.60% of our emails are spam while the rest is non-spam (39.40%). While this dataset is not ideally balanced (50%-50% distribution) the difference is not so large as to cause significant concerns and the random forest should perform reasonably well. However we will keep an eye on the F1-Score to ensure that the model is performing well across both classes. If it is evident that the model is not performing as intended, we will balance the dataset and try again."
   ]
  },
  {
   "cell_type": "markdown",
   "id": "52c51abe-3d4e-4efb-9d69-022f8edc2740",
   "metadata": {},
   "source": [
    "<a name=\"3\"></a>\n",
    "## 3 - Loading data\n",
    "Next, we load the dataset in the variables X_train, X_test, y_train, y_test. We use a common 80% - 20% data split to train and evaluate the model."
   ]
  },
  {
   "cell_type": "code",
   "execution_count": 77,
   "id": "de4351bb-3626-48f4-8a74-4e97081bf581",
   "metadata": {
    "tags": []
   },
   "outputs": [],
   "source": [
    "#Split the data into features (X) and target (y)\n",
    "def load_data(filename):\n",
    "    data = np.loadtxt(filename, delimiter=',')\n",
    "    X = data[:,:57]\n",
    "    y = data[:,57]\n",
    "    X_train, X_test, y_train, y_test = train_test_split(X,y,test_size=0.2, random_state=42)\n",
    "    return X_train, y_train, X_test, y_test\n",
    "\n",
    "X_train, y_train, X_test, y_test = load_data(\"dataset/spambase_data\")"
   ]
  },
  {
   "cell_type": "markdown",
   "id": "99b324a5-de50-46a1-9a92-ec09a67aff2e",
   "metadata": {},
   "source": [
    "Lets get more familiar with our dataset by printing out the first five elements of each variable and see what it contains"
   ]
  },
  {
   "cell_type": "code",
   "execution_count": 79,
   "id": "ef40d7ad-c034-4946-86ea-364ad6c2cd87",
   "metadata": {
    "tags": []
   },
   "outputs": [
    {
     "name": "stdout",
     "output_type": "stream",
     "text": [
      "First five elements in X_train are:\n",
      " [[9.000e-02 0.000e+00 9.000e-02 0.000e+00 3.900e-01 9.000e-02 9.000e-02\n",
      "  0.000e+00 1.900e-01 2.900e-01 3.900e-01 4.800e-01 0.000e+00 5.800e-01\n",
      "  0.000e+00 8.700e-01 1.900e-01 0.000e+00 1.660e+00 4.100e+00 1.660e+00\n",
      "  0.000e+00 3.900e-01 1.900e-01 0.000e+00 0.000e+00 0.000e+00 0.000e+00\n",
      "  0.000e+00 0.000e+00 0.000e+00 0.000e+00 0.000e+00 0.000e+00 0.000e+00\n",
      "  0.000e+00 0.000e+00 0.000e+00 0.000e+00 0.000e+00 0.000e+00 0.000e+00\n",
      "  0.000e+00 0.000e+00 0.000e+00 0.000e+00 0.000e+00 0.000e+00 0.000e+00\n",
      "  1.390e-01 0.000e+00 3.100e-01 1.550e-01 0.000e+00 6.813e+00 4.940e+02\n",
      "  1.458e+03]\n",
      " [0.000e+00 0.000e+00 0.000e+00 0.000e+00 0.000e+00 0.000e+00 0.000e+00\n",
      "  0.000e+00 0.000e+00 0.000e+00 0.000e+00 1.580e+00 0.000e+00 0.000e+00\n",
      "  0.000e+00 0.000e+00 0.000e+00 0.000e+00 7.900e-01 0.000e+00 7.900e-01\n",
      "  0.000e+00 0.000e+00 0.000e+00 0.000e+00 0.000e+00 0.000e+00 0.000e+00\n",
      "  0.000e+00 0.000e+00 0.000e+00 0.000e+00 0.000e+00 0.000e+00 0.000e+00\n",
      "  0.000e+00 0.000e+00 0.000e+00 0.000e+00 0.000e+00 0.000e+00 0.000e+00\n",
      "  7.900e-01 0.000e+00 0.000e+00 0.000e+00 0.000e+00 0.000e+00 1.240e-01\n",
      "  1.240e-01 0.000e+00 0.000e+00 0.000e+00 0.000e+00 1.800e+00 8.000e+00\n",
      "  4.500e+01]\n",
      " [0.000e+00 0.000e+00 2.430e+00 0.000e+00 0.000e+00 0.000e+00 0.000e+00\n",
      "  0.000e+00 2.700e-01 0.000e+00 0.000e+00 2.160e+00 0.000e+00 0.000e+00\n",
      "  0.000e+00 0.000e+00 0.000e+00 0.000e+00 2.700e-01 0.000e+00 1.620e+00\n",
      "  0.000e+00 0.000e+00 0.000e+00 2.700e-01 5.400e-01 0.000e+00 0.000e+00\n",
      "  2.700e-01 0.000e+00 0.000e+00 0.000e+00 2.700e-01 0.000e+00 0.000e+00\n",
      "  0.000e+00 0.000e+00 0.000e+00 0.000e+00 2.700e-01 0.000e+00 0.000e+00\n",
      "  0.000e+00 0.000e+00 0.000e+00 0.000e+00 0.000e+00 0.000e+00 0.000e+00\n",
      "  3.440e-01 0.000e+00 0.000e+00 0.000e+00 0.000e+00 2.319e+00 1.200e+01\n",
      "  1.670e+02]\n",
      " [0.000e+00 0.000e+00 0.000e+00 0.000e+00 1.310e+00 0.000e+00 1.310e+00\n",
      "  1.310e+00 1.310e+00 1.310e+00 0.000e+00 0.000e+00 0.000e+00 0.000e+00\n",
      "  0.000e+00 0.000e+00 1.310e+00 0.000e+00 1.310e+00 1.310e+00 3.940e+00\n",
      "  0.000e+00 0.000e+00 0.000e+00 0.000e+00 0.000e+00 0.000e+00 0.000e+00\n",
      "  0.000e+00 0.000e+00 0.000e+00 0.000e+00 0.000e+00 0.000e+00 0.000e+00\n",
      "  0.000e+00 0.000e+00 0.000e+00 0.000e+00 0.000e+00 0.000e+00 0.000e+00\n",
      "  0.000e+00 0.000e+00 0.000e+00 0.000e+00 0.000e+00 0.000e+00 0.000e+00\n",
      "  0.000e+00 0.000e+00 1.170e-01 1.170e-01 0.000e+00 4.850e+01 1.860e+02\n",
      "  2.910e+02]\n",
      " [0.000e+00 0.000e+00 0.000e+00 0.000e+00 0.000e+00 0.000e+00 0.000e+00\n",
      "  0.000e+00 0.000e+00 0.000e+00 0.000e+00 1.360e+00 0.000e+00 0.000e+00\n",
      "  0.000e+00 0.000e+00 0.000e+00 0.000e+00 1.360e+00 0.000e+00 5.470e+00\n",
      "  0.000e+00 0.000e+00 0.000e+00 0.000e+00 0.000e+00 1.360e+00 0.000e+00\n",
      "  0.000e+00 0.000e+00 0.000e+00 0.000e+00 0.000e+00 0.000e+00 0.000e+00\n",
      "  0.000e+00 0.000e+00 0.000e+00 0.000e+00 0.000e+00 0.000e+00 0.000e+00\n",
      "  0.000e+00 0.000e+00 0.000e+00 0.000e+00 0.000e+00 0.000e+00 0.000e+00\n",
      "  0.000e+00 0.000e+00 0.000e+00 0.000e+00 0.000e+00 2.307e+00 8.000e+00\n",
      "  3.000e+01]]\n",
      "Type of X_train: <class 'numpy.ndarray'>\n",
      "\n",
      "\n",
      "First five elements in y_train are:\n",
      " [1. 0. 0. 1. 0.]\n",
      "Type of y_train: <class 'numpy.ndarray'>\n",
      "\n",
      "\n",
      "First five elements in X_test are:\n",
      " [[0.000e+00 0.000e+00 0.000e+00 0.000e+00 0.000e+00 0.000e+00 0.000e+00\n",
      "  0.000e+00 0.000e+00 0.000e+00 0.000e+00 0.000e+00 0.000e+00 0.000e+00\n",
      "  0.000e+00 0.000e+00 0.000e+00 0.000e+00 0.000e+00 0.000e+00 0.000e+00\n",
      "  0.000e+00 0.000e+00 0.000e+00 0.000e+00 0.000e+00 0.000e+00 0.000e+00\n",
      "  0.000e+00 0.000e+00 0.000e+00 0.000e+00 0.000e+00 0.000e+00 0.000e+00\n",
      "  0.000e+00 0.000e+00 0.000e+00 0.000e+00 0.000e+00 0.000e+00 0.000e+00\n",
      "  0.000e+00 0.000e+00 0.000e+00 0.000e+00 0.000e+00 0.000e+00 0.000e+00\n",
      "  0.000e+00 0.000e+00 0.000e+00 0.000e+00 0.000e+00 1.000e+00 1.000e+00\n",
      "  3.000e+00]\n",
      " [7.100e-01 0.000e+00 7.100e-01 0.000e+00 0.000e+00 0.000e+00 0.000e+00\n",
      "  0.000e+00 0.000e+00 7.100e-01 0.000e+00 1.430e+00 0.000e+00 0.000e+00\n",
      "  0.000e+00 1.430e+00 0.000e+00 0.000e+00 1.430e+00 0.000e+00 0.000e+00\n",
      "  0.000e+00 0.000e+00 0.000e+00 0.000e+00 0.000e+00 0.000e+00 0.000e+00\n",
      "  0.000e+00 0.000e+00 0.000e+00 0.000e+00 0.000e+00 0.000e+00 0.000e+00\n",
      "  0.000e+00 0.000e+00 0.000e+00 0.000e+00 0.000e+00 0.000e+00 0.000e+00\n",
      "  0.000e+00 0.000e+00 0.000e+00 1.430e+00 0.000e+00 0.000e+00 0.000e+00\n",
      "  0.000e+00 0.000e+00 0.000e+00 0.000e+00 0.000e+00 1.032e+00 2.000e+00\n",
      "  3.200e+01]\n",
      " [0.000e+00 0.000e+00 9.100e-01 0.000e+00 0.000e+00 0.000e+00 0.000e+00\n",
      "  4.500e-01 0.000e+00 0.000e+00 0.000e+00 0.000e+00 0.000e+00 0.000e+00\n",
      "  0.000e+00 0.000e+00 0.000e+00 0.000e+00 2.280e+00 0.000e+00 0.000e+00\n",
      "  0.000e+00 0.000e+00 0.000e+00 9.100e-01 9.100e-01 0.000e+00 0.000e+00\n",
      "  0.000e+00 0.000e+00 0.000e+00 0.000e+00 0.000e+00 0.000e+00 4.500e-01\n",
      "  0.000e+00 0.000e+00 0.000e+00 0.000e+00 0.000e+00 0.000e+00 0.000e+00\n",
      "  0.000e+00 0.000e+00 0.000e+00 0.000e+00 0.000e+00 0.000e+00 0.000e+00\n",
      "  0.000e+00 0.000e+00 0.000e+00 0.000e+00 0.000e+00 1.320e+00 7.000e+00\n",
      "  1.030e+02]\n",
      " [0.000e+00 0.000e+00 0.000e+00 0.000e+00 0.000e+00 0.000e+00 0.000e+00\n",
      "  0.000e+00 0.000e+00 0.000e+00 0.000e+00 0.000e+00 0.000e+00 0.000e+00\n",
      "  0.000e+00 0.000e+00 0.000e+00 0.000e+00 0.000e+00 0.000e+00 0.000e+00\n",
      "  0.000e+00 1.960e+00 0.000e+00 0.000e+00 0.000e+00 0.000e+00 0.000e+00\n",
      "  0.000e+00 0.000e+00 0.000e+00 0.000e+00 0.000e+00 0.000e+00 0.000e+00\n",
      "  0.000e+00 1.960e+00 0.000e+00 0.000e+00 0.000e+00 0.000e+00 0.000e+00\n",
      "  0.000e+00 0.000e+00 0.000e+00 0.000e+00 0.000e+00 0.000e+00 0.000e+00\n",
      "  2.010e-01 0.000e+00 0.000e+00 1.000e-01 0.000e+00 4.548e+00 5.900e+01\n",
      "  1.410e+02]\n",
      " [0.000e+00 0.000e+00 5.400e-01 0.000e+00 0.000e+00 0.000e+00 0.000e+00\n",
      "  0.000e+00 0.000e+00 0.000e+00 0.000e+00 2.700e-01 0.000e+00 0.000e+00\n",
      "  0.000e+00 0.000e+00 0.000e+00 0.000e+00 3.290e+00 0.000e+00 0.000e+00\n",
      "  0.000e+00 0.000e+00 0.000e+00 0.000e+00 0.000e+00 0.000e+00 0.000e+00\n",
      "  0.000e+00 0.000e+00 0.000e+00 0.000e+00 0.000e+00 0.000e+00 0.000e+00\n",
      "  0.000e+00 2.700e-01 0.000e+00 2.700e-01 0.000e+00 5.400e-01 0.000e+00\n",
      "  2.700e-01 0.000e+00 2.700e-01 2.700e-01 0.000e+00 0.000e+00 0.000e+00\n",
      "  1.880e-01 4.700e-02 0.000e+00 0.000e+00 0.000e+00 1.745e+00 1.200e+01\n",
      "  8.900e+01]]\n",
      "Type of X_test: <class 'numpy.ndarray'>\n",
      "\n",
      "\n",
      "First five elements in y_test are:\n",
      " [0. 0. 0. 1. 0.]\n",
      "Type of y_test: <class 'numpy.ndarray'>\n"
     ]
    }
   ],
   "source": [
    "#View variables\n",
    "print(\"First five elements in X_train are:\\n\", X_train[:5])\n",
    "print(\"Type of X_train:\",type(X_train))\n",
    "print(\"\\n\")\n",
    "\n",
    "print(\"First five elements in y_train are:\\n\", y_train[:5])\n",
    "print(\"Type of y_train:\", type(y_train))\n",
    "print(\"\\n\")\n",
    "\n",
    "print(\"First five elements in X_test are:\\n\", X_test[:5])\n",
    "print(\"Type of X_test:\",type(X_test))\n",
    "print(\"\\n\")\n",
    "\n",
    "print(\"First five elements in y_test are:\\n\", y_test[:5])\n",
    "print(\"Type of y_test:\", type(y_test))"
   ]
  },
  {
   "cell_type": "markdown",
   "id": "49d1aa06-f9ba-40c3-8549-82396243136e",
   "metadata": {},
   "source": [
    "Another usefull way to get familiar with the dataset is to view its dimensions:"
   ]
  },
  {
   "cell_type": "code",
   "execution_count": 82,
   "id": "56a23b1b-8312-496d-91a1-bd944d9d5115",
   "metadata": {},
   "outputs": [
    {
     "name": "stdout",
     "output_type": "stream",
     "text": [
      "The shape of X_train is:(3680, 57)\n",
      "The shape of y_train is:(3680,)\n",
      "We have m= 3680 training examples\n",
      "\n",
      "\n",
      "The shape of X_test is:(921, 57)\n",
      "The shape of y_test is:(921,)\n",
      "We have m= 921 training examples\n"
     ]
    }
   ],
   "source": [
    "#Check dimensions of train sample\n",
    "print('The shape of X_train is:' + str(X_train.shape))\n",
    "print('The shape of y_train is:' + str(y_train.shape))\n",
    "print('We have m= %d training examples' % (len(y_train)))\n",
    "print(\"\\n\")\n",
    "\n",
    "#Check dimensions of test sample\n",
    "print('The shape of X_test is:' + str(X_test.shape))\n",
    "print('The shape of y_test is:' + str(y_test.shape))\n",
    "print('We have m= %d training examples' % (len(y_test)))"
   ]
  },
  {
   "cell_type": "markdown",
   "id": "34c0ab21-c509-4ff8-b9a2-df31845853dc",
   "metadata": {
    "tags": []
   },
   "source": [
    "<a name=\"4\"></a>\n",
    "## 4 - RF Model\n",
    "Now, we can start implementing the random forest tree. The random_state doesnt affect the performance of the model. It ensures that the randomness in the process is consistent across different runs:"
   ]
  },
  {
   "cell_type": "code",
   "execution_count": 83,
   "id": "999b8296-5545-41d1-a9e6-1f0876d85b90",
   "metadata": {},
   "outputs": [],
   "source": [
    "rf_classifier = RandomForestClassifier(random_state=42)\n",
    "rf_classifier.fit(X_train, y_train)\n",
    "y_pred = rf_classifier.predict(X_test)"
   ]
  },
  {
   "cell_type": "markdown",
   "id": "25e098c3-989e-4c5f-9a1a-d2ace5c62ff2",
   "metadata": {},
   "source": [
    "Once the model is trained, we can check its performance by computing the accuracy and the classification report which gives information regarding:\n",
    "- Accuracy : Indicates the number of times the RF model was successful on predicting if an email is spam or not.\n",
    "- Precision : Indicates how accurate the predictions are.\n",
    "- Recall : Reflects the model's ability to find all the relevant instances in the dataset"
   ]
  },
  {
   "cell_type": "code",
   "execution_count": 70,
   "id": "aaa18795-87e8-4cea-b8d1-a712ebfc1f33",
   "metadata": {
    "tags": []
   },
   "outputs": [
    {
     "name": "stdout",
     "output_type": "stream",
     "text": [
      "Accuracy:  0.9554831704668838\n",
      "Classification report: \n",
      "               precision    recall  f1-score   support\n",
      "\n",
      "         0.0       0.94      0.98      0.96       531\n",
      "         1.0       0.98      0.92      0.95       390\n",
      "\n",
      "    accuracy                           0.96       921\n",
      "   macro avg       0.96      0.95      0.95       921\n",
      "weighted avg       0.96      0.96      0.96       921\n",
      "\n"
     ]
    }
   ],
   "source": [
    "accuracy= accuracy_score(y_test, y_pred)\n",
    "classification_rep = classification_report(y_test, y_pred)\n",
    "print(\"Accuracy: \", accuracy)\n",
    "print(\"Classification report: \\n\", classification_rep)\n"
   ]
  },
  {
   "cell_type": "markdown",
   "id": "d8807ef2-e7fa-46eb-af86-7192c6bbf122",
   "metadata": {},
   "source": [
    "Lets plot the F1-Score, since our dataset is a bit unbalanced, as well as the confusion matrix,to get a better idea of the performance of the model:"
   ]
  },
  {
   "cell_type": "code",
   "execution_count": 84,
   "id": "63eb5112-93c0-40c5-97e8-6b5ec1b091cb",
   "metadata": {
    "tags": []
   },
   "outputs": [
    {
     "data": {
      "image/png": "[encoded data removed]",
      "text/plain": [
       "<Figure size 600x400 with 1 Axes>"
      ]
     },
     "metadata": {},
     "output_type": "display_data"
    },
    {
     "data": {
      "image/png": "[encoded data removed]",
      "text/plain": [
       "<Figure size 800x600 with 2 Axes>"
      ]
     },
     "metadata": {},
     "output_type": "display_data"
    }
   ],
   "source": [
    "# Calculating F1-score\n",
    "f1 = f1_score(y_test, y_pred, average='weighted')\n",
    "\n",
    "# Plotting F1-score\n",
    "plt.figure(figsize=(6, 4))\n",
    "sns.barplot(x=['F1-Score'], y=[f1])\n",
    "plt.ylim(0, 1)\n",
    "plt.title('F1-Score of the Model')\n",
    "plt.ylabel('Score')\n",
    "plt.show()\n",
    "\n",
    "# Calculating confusion matrix\n",
    "conf_matrix = confusion_matrix(y_test, y_pred)\n",
    "\n",
    "# Plotting confusion matrix\n",
    "plt.figure(figsize=(8, 6))\n",
    "sns.heatmap(conf_matrix, annot=True, fmt='d', cmap='Blues', xticklabels=['Not Spam', 'Spam'], yticklabels=['Not Spam', 'Spam'])\n",
    "plt.title('Confusion Matrix')\n",
    "plt.ylabel('Actual Label')\n",
    "plt.xlabel('Predicted Label')\n",
    "plt.show()"
   ]
  },
  {
   "cell_type": "markdown",
   "id": "3b3951f0-eceb-4fe6-add3-91158f8779c7",
   "metadata": {},
   "source": [
    "The weighted average F1-score is approximately 0.955, which indicates that the model has a good balance between precision and recall for the dataset, taking into account the number of instances for each class.\n",
    "\n",
    "The confusion matrix provides a breakdown of the true positives, false positives, true negatives, and false negatives:\n",
    "\n",
    "- True Non-Spam Predictions: 522\n",
    "- False Spam Predictions (Type I error): 9\n",
    "- False Non-Spam Predictions (Type II error): 32\n",
    "- True Spam Predictions: 358\n",
    "\n",
    "The model has a higher number of false negatives (32) compared to false positives (9). This suggests that while the model is quite conservative in predicting spam (preferring to minimize false positives), it might be missing some actual spam emails (as indicated by the false negatives). \n",
    "\n",
    "Given the high performance metrics across the board, there doesn't seem to be a strong immediate need to balance the dataset further. Both classes are being predicted with high accuracy, precision, and recall, and the F1-scores are also strong. The slight imbalance in the dataset does not seem to be negatively impacting the model's ability to generalize."
   ]
  },
  {
   "cell_type": "markdown",
   "id": "9288aede-f70a-4618-83ac-12f0c58aba9c",
   "metadata": {
    "jp-MarkdownHeadingCollapsed": true,
    "tags": []
   },
   "source": [
    "<a name=\"5\"></a>\n",
    "## 5- LOGISTIC REGRESSION - WORK ON IT"
   ]
  },
  {
   "cell_type": "code",
   "execution_count": 48,
   "id": "0ca20a29-b1ab-483a-96c7-114ce21002d6",
   "metadata": {
    "tags": []
   },
   "outputs": [
    {
     "name": "stdout",
     "output_type": "stream",
     "text": [
      "sigmoid(0) = 0.5\n"
     ]
    }
   ],
   "source": [
    "def sigmoid(z):\n",
    "    \"\"\"\n",
    "    Compute the sigmoid of z\n",
    "\n",
    "    Args:\n",
    "        z (ndarray): A scalar, numpy array of any size.\n",
    "\n",
    "    Returns:\n",
    "        g (ndarray): sigmoid(z), with the same shape as z\n",
    "         \n",
    "    \"\"\"\n",
    "          \n",
    "    ### START CODE HERE ### \n",
    "    z = np.clip(z, -709, 709)  # np.exp(709) is close to the largest value representable by numpy float64\n",
    "    g = 1 / (1 + np.exp(-z))\n",
    "    g = np.clip(g, 1e-8, 1 - 1e-8)  # Clip the output to avoid extreme values\n",
    "    ### END SOLUTION ###  \n",
    "    \n",
    "    return g\n",
    "\n",
    "print (\"sigmoid(0) = \" + str(sigmoid(0)))"
   ]
  },
  {
   "cell_type": "code",
   "execution_count": 49,
   "id": "1b76fe3c-35c2-445c-936b-05fee7bb65f4",
   "metadata": {
    "tags": []
   },
   "outputs": [
    {
     "name": "stdout",
     "output_type": "stream",
     "text": [
      "Cost at initial w (zeros): 0.693\n"
     ]
    }
   ],
   "source": [
    "# UNQ_C2\n",
    "# GRADED FUNCTION: compute_cost\n",
    "def compute_cost(X, y, w, b, lambda_= 1):\n",
    "    \"\"\"\n",
    "    Computes the cost over all examples\n",
    "    Args:\n",
    "      X : (ndarray Shape (m,n)) data, m examples by n features\n",
    "      y : (array_like Shape (m,)) target value \n",
    "      w : (array_like Shape (n,)) Values of parameters of the model      \n",
    "      b : scalar Values of bias parameter of the model\n",
    "      lambda_: unused placeholder\n",
    "    Returns:\n",
    "      total_cost: (scalar)         cost \n",
    "    \"\"\"\n",
    "    m, n = X.shape\n",
    "    ### START CODE HERE ###\n",
    "    total_cost = 0\n",
    "    prediction_model = sigmoid(np.dot(X,w)+b)\n",
    "    loss_sum = (-1*y*np.log(prediction_model)) - (1 - y)*np.log(1-prediction_model)\n",
    "    total_cost = np.sum(loss_sum)/m\n",
    "    \n",
    "    \n",
    "    ### END CODE HERE ### \n",
    "\n",
    "    return total_cost\n",
    "\n",
    "m, n = X_train.shape\n",
    "\n",
    "# Compute and display cost with w initialized to zeroes\n",
    "initial_w = np.zeros(n)\n",
    "initial_b = 0.\n",
    "cost = compute_cost(X_train, y_train, initial_w, initial_b)\n",
    "print('Cost at initial w (zeros): {:.3f}'.format(cost))"
   ]
  },
  {
   "cell_type": "code",
   "execution_count": 50,
   "id": "f8190e9b-b27c-460c-ba9a-347c5e850175",
   "metadata": {
    "tags": []
   },
   "outputs": [
    {
     "name": "stdout",
     "output_type": "stream",
     "text": [
      "dj_db at initial w (zeros):0.11331521739130435\n",
      "dj_dw at initial w (zeros):[-0.007332880434782609, 0.035623641304347815, -0.01697282608695652, -0.02730978260869565, -0.043120923913043466, -0.019514945652173907, -0.04818749999999999, -0.029116847826086957, -0.021142663043478258, -0.015245923913043479, -0.015942934782608695, 0.05468342391304346, -0.008165760869565218, -0.003131793478260869, -0.0196304347826087, -0.07849184782608695, -0.04136820652173913, -0.031301630434782596, -0.052589673913043485, -0.03543070652173914, -0.13457472826086947, -0.03234239130434783, -0.046536684782608695, -0.0358695652173913, 0.27213586956521735, 0.12528396739130432, 0.3971250000000001, 0.054865489130434784, 0.04817663043478262, 0.04912364130434783, 0.02997282608695652, 0.021508152173913046, 0.04470108695652174, 0.021362771739130433, 0.05005027173913044, 0.03617798913043478, 0.054191576086956524, 0.004611413043478262, 0.035709239130434785, 0.01657880434782609, 0.022237771739130437, 0.06512364130434783, 0.020362771739130432, 0.04100679347826087, 0.10948777173913041, 0.08373097826086956, 0.0018709239130434783, 0.015529891304347824, 0.010996874999999998, 0.028219157608695665, 0.005168070652173913, -0.06155122282608698, -0.030359103260869547, -0.006827853260869564, -1.0912953804347825, -15.16508152173913, -45.141440217391306]\n"
     ]
    }
   ],
   "source": [
    "# UNQ_C3\n",
    "# GRADED FUNCTION: compute_gradient\n",
    "def compute_gradient(X, y, w, b, lambda_=None): \n",
    "    \"\"\"\n",
    "    Computes the gradient for logistic regression \n",
    " \n",
    "    Args:\n",
    "      X : (ndarray Shape (m,n)) variable such as house size \n",
    "      y : (array_like Shape (m,1)) actual value \n",
    "      w : (array_like Shape (n,1)) values of parameters of the model      \n",
    "      b : (scalar)                 value of parameter of the model \n",
    "      lambda_: unused placeholder.\n",
    "    Returns\n",
    "      dj_dw: (array_like Shape (n,1)) The gradient of the cost w.r.t. the parameters w. \n",
    "      dj_db: (scalar)                The gradient of the cost w.r.t. the parameter b. \n",
    "    \"\"\"\n",
    "    m, n = X.shape\n",
    "    dj_dw = np.zeros(w.shape)\n",
    "    dj_db = 0\n",
    "\n",
    "    ### START CODE HERE ### \n",
    "\n",
    "    prediction_model = sigmoid(np.dot(X,w) + b)\n",
    "    dj_db_sum = prediction_model - y\n",
    "    dj_dw_sum = np.dot((prediction_model - y),X)\n",
    "\n",
    "    dj_db = np.sum(dj_db_sum)/m\n",
    "    dj_dw = dj_dw_sum/m\n",
    "\n",
    "    ### END CODE HERE ###\n",
    "\n",
    "        \n",
    "    return dj_db, dj_dw\n",
    "# Compute and display gradient with w initialized to zeroes\n",
    "initial_w = np.zeros(n)\n",
    "initial_b = 0.\n",
    "\n",
    "dj_db, dj_dw = compute_gradient(X_train, y_train, initial_w, initial_b)\n",
    "print(f'dj_db at initial w (zeros):{dj_db}' )\n",
    "print(f'dj_dw at initial w (zeros):{dj_dw.tolist()}' )"
   ]
  },
  {
   "cell_type": "code",
   "execution_count": 51,
   "id": "cc42966f-1181-43ef-bd3f-0c841449f734",
   "metadata": {
    "tags": []
   },
   "outputs": [
    {
     "name": "stdout",
     "output_type": "stream",
     "text": [
      "dj_db at test_w: 0.38597223518976526\n",
      "dj_dw at test_w: [0.032186769082164744, 0.026625803621710124, 0.08255190350023497, 0.000434782053804345, 0.05878857857875759, 0.019262712708455504, 7.446334075141112e-05, 0.01416588389786637, 0.020379192648112263, 0.083006774131106, 0.012591738853001478, 0.23859000380857734, 0.026786323779223173, 0.013759789661599995, 0.004441865462753605, 0.00729799396854726, 0.02405136228774816, 0.04238516055909331, 0.4467544887550686, 0.002036406102768104, 0.17676408878691666, 0.028054346618152166, 0.0029876635662017337, 0.0030613156298329378, 0.46029310765243986, 0.2135637712062495, 0.1457292050121587, 0.1155533830311733, 0.07372237726074916, 0.09409985757584184, 0.06015740209074872, 0.043271721169631405, 0.07551682644040572, 0.043600525507973796, 0.09659549696079525, 0.08065605017513372, 0.11436466913995147, 0.0041640860187157, 0.06682394537319536, 0.045780618581422766, 0.030651711132996574, 0.06880292652015604, 0.03903231497280408, 0.04716915488467536, 0.14168848288378535, 0.11321643937334878, 0.003426902144570052, 0.02227194797365501, 0.02589455611405144, 0.0767224904702257, 0.01038014396141052, 0.029747162424946294, 0.005983984661648255, 0.013685947800720374, 1.1400648221970653, 10.381816114590043, 91.16492088765247]\n"
     ]
    }
   ],
   "source": [
    "# Compute and display cost and gradient with non-zero w\n",
    "test_w = np.random.rand(X_train.shape[1])  # or any other method to create an array of length 57\n",
    "test_b = -24\n",
    "dj_db, dj_dw  = compute_gradient(X_train, y_train, test_w, test_b)\n",
    "\n",
    "print('dj_db at test_w:', dj_db)\n",
    "print('dj_dw at test_w:', dj_dw.tolist())"
   ]
  },
  {
   "cell_type": "code",
   "execution_count": 56,
   "id": "a41cd006-bc73-48e2-a2ab-1c4cb12389bb",
   "metadata": {
    "tags": []
   },
   "outputs": [
    {
     "name": "stdout",
     "output_type": "stream",
     "text": [
      "Iteration    0: Cost     7.12   \n",
      "Iteration 10000: Cost     7.65   \n",
      "Iteration 20000: Cost     6.61   \n",
      "Iteration 30000: Cost     2.69   \n",
      "Iteration 40000: Cost     5.37   \n",
      "Iteration 50000: Cost     5.14   \n",
      "Iteration 60000: Cost     2.57   \n",
      "Iteration 70000: Cost     4.90   \n",
      "Iteration 80000: Cost     4.53   \n",
      "Iteration 90000: Cost     2.42   \n",
      "Iteration 99999: Cost     2.45   \n"
     ]
    },
    {
     "data": {
      "image/png": "[encoded data removed]",
      "text/plain": [
       "<Figure size 640x480 with 1 Axes>"
      ]
     },
     "metadata": {},
     "output_type": "display_data"
    }
   ],
   "source": [
    "def gradient_descent(X, y, w_in, b_in, cost_function, gradient_function, alpha, num_iters, lambda_): \n",
    "    \"\"\"\n",
    "    Performs batch gradient descent to learn theta. Updates theta by taking \n",
    "    num_iters gradient steps with learning rate alpha\n",
    "    \n",
    "    Args:\n",
    "      X :    (array_like Shape (m, n)\n",
    "      y :    (array_like Shape (m,))\n",
    "      w_in : (array_like Shape (n,))  Initial values of parameters of the model\n",
    "      b_in : (scalar)                 Initial value of parameter of the model\n",
    "      cost_function:                  function to compute cost\n",
    "      alpha : (float)                 Learning rate\n",
    "      num_iters : (int)               number of iterations to run gradient descent\n",
    "      lambda_ (scalar, float)         regularization constant\n",
    "      \n",
    "    Returns:\n",
    "      w : (array_like Shape (n,)) Updated values of parameters of the model after\n",
    "          running gradient descent\n",
    "      b : (scalar)                Updated value of parameter of the model after\n",
    "          running gradient descent\n",
    "    \"\"\"\n",
    "    \n",
    "    # number of training examples\n",
    "    m = len(X)\n",
    "    \n",
    "    # An array to store cost J and w's at each iteration primarily for graphing later\n",
    "    J_history = []\n",
    "    w_history = []\n",
    "    \n",
    "    for i in range(num_iters):\n",
    "\n",
    "        # Calculate the gradient and update the parameters\n",
    "        dj_db, dj_dw = gradient_function(X, y, w_in, b_in, lambda_)   \n",
    "\n",
    "        # Update Parameters using w, b, alpha and gradient\n",
    "        w_in = w_in - alpha * dj_dw               \n",
    "        b_in = b_in - alpha * dj_db              \n",
    "       \n",
    "        # Save cost J at each iteration\n",
    "        if i<100000:      # prevent resource exhaustion \n",
    "            cost =  cost_function(X, y, w_in, b_in, lambda_)\n",
    "            J_history.append(cost)\n",
    "\n",
    "        # Print cost every at intervals 10 times or as many iterations if < 10\n",
    "        if i% math.ceil(num_iters/10) == 0 or i == (num_iters-1):\n",
    "            w_history.append(w_in)\n",
    "            print(f\"Iteration {i:4}: Cost {float(J_history[-1]):8.2f}   \")\n",
    "        \n",
    "    return w_in, b_in, J_history, w_history #return w and J,w history for graphing\n",
    "\n",
    "np.random.seed(1)\n",
    "initial_w = np.random.rand(X_train.shape[1])  # or any other method to create an array of length 57\n",
    "initial_b = 0\n",
    "\n",
    "\n",
    "# Some gradient descent settings\n",
    "iterations = 100000\n",
    "alpha = 0.1\n",
    "\n",
    "w,b, J_history,_ = gradient_descent(X_train ,y_train, initial_w, initial_b, \n",
    "                                   compute_cost, compute_gradient, alpha, iterations, 0)\n",
    "\n",
    "# Assuming J_history is a list containing the cost at each iteration\n",
    "plt.plot(J_history)\n",
    "plt.title(\"Cost Function J over Iterations\")\n",
    "plt.xlabel(\"Iterations\")\n",
    "plt.ylabel(\"Cost Function J\")\n",
    "plt.show()"
   ]
  },
  {
   "cell_type": "code",
   "execution_count": 57,
   "id": "99b2e99b-78e2-4d2f-9095-4e95d4569aa0",
   "metadata": {
    "tags": []
   },
   "outputs": [
    {
     "name": "stdout",
     "output_type": "stream",
     "text": [
      "Output of predict: shape (4,), value [0. 1. 1. 1.]\n"
     ]
    }
   ],
   "source": [
    "# UNQ_C4\n",
    "# GRADED FUNCTION: predict\n",
    "\n",
    "def predict(X, w, b): \n",
    "    \"\"\"\n",
    "    Predict whether the label is 0 or 1 using learned logistic\n",
    "    regression parameters w\n",
    "    \n",
    "    Args:\n",
    "    X : (ndarray Shape (m, n))\n",
    "    w : (array_like Shape (n,))      Parameters of the model\n",
    "    b : (scalar, float)              Parameter of the model\n",
    "\n",
    "    Returns:\n",
    "    p: (ndarray (m,1))\n",
    "        The predictions for X using a threshold at 0.5\n",
    "    \"\"\"\n",
    "    # number of training examples\n",
    "    m, n = X.shape   \n",
    "    p = np.zeros(m)\n",
    "   \n",
    "    ### START CODE HERE ### \n",
    "    prediction_model = sigmoid(np.dot(X,w)+b)\n",
    "    \n",
    "    p[prediction_model>=0.5]=1\n",
    "        \n",
    "    ### END CODE HERE ### \n",
    "    return p\n",
    "# Test your predict code\n",
    "np.random.seed(1)\n",
    "tmp_w = np.random.randn(2)\n",
    "tmp_b = 0.3    \n",
    "tmp_X = np.random.randn(4, 2) - 0.5\n",
    "\n",
    "tmp_p = predict(tmp_X, tmp_w, tmp_b)\n",
    "print(f'Output of predict: shape {tmp_p.shape}, value {tmp_p}')"
   ]
  },
  {
   "cell_type": "code",
   "execution_count": 58,
   "id": "4f84a1d2-9671-4e05-bf2f-dfb24d2f8110",
   "metadata": {
    "tags": []
   },
   "outputs": [
    {
     "name": "stdout",
     "output_type": "stream",
     "text": [
      "Train Accuracy: 86.521739\n"
     ]
    }
   ],
   "source": [
    "#Compute accuracy on our training set\n",
    "p = predict(X_train, w,b)\n",
    "print('Train Accuracy: %f'%(np.mean(p == y_train) * 100))"
   ]
  },
  {
   "cell_type": "code",
   "execution_count": 59,
   "id": "30e73863-ba4c-4faa-8758-988e26e6a54c",
   "metadata": {
    "tags": []
   },
   "outputs": [
    {
     "name": "stdout",
     "output_type": "stream",
     "text": [
      "Precision: 0.7935483870967742\n",
      "F1 Score: 0.863157894736842\n"
     ]
    },
    {
     "data": {
      "image/png": "[encoded data removed]",
      "text/plain": [
       "<Figure size 800x800 with 2 Axes>"
      ]
     },
     "metadata": {},
     "output_type": "display_data"
    },
    {
     "data": {
      "image/png": "[encoded data removed]",
      "text/plain": [
       "<Figure size 600x400 with 1 Axes>"
      ]
     },
     "metadata": {},
     "output_type": "display_data"
    }
   ],
   "source": [
    "# Get predictions for the test set\n",
    "probabilities = sigmoid(np.dot(X_test, w) + b)\n",
    "predictions = probabilities >= 0.5  # apply threshold to get binary predictions\n",
    "\n",
    "# Calculate the F1 score and precision\n",
    "f1 = f1_score(y_test, predictions)\n",
    "precision = precision_score(y_test, predictions)\n",
    "\n",
    "# Print the precision and F1 score\n",
    "print('Precision:', precision)\n",
    "print('F1 Score:', f1)\n",
    "\n",
    "# Generate and plot confusion matrix\n",
    "cm = confusion_matrix(y_test, predictions)\n",
    "plt.figure(figsize=(8, 8))\n",
    "sns.heatmap(cm, annot=True, fmt='d', cmap='Blues', xticklabels=['Not Spam', 'Spam'], yticklabels=['Not Spam', 'Spam'])\n",
    "plt.ylabel('Actual')\n",
    "plt.xlabel('Predicted')\n",
    "plt.title('Confusion Matrix')\n",
    "plt.show()\n",
    "\n",
    "# Plot F1-score\n",
    "plt.figure(figsize=(6, 4))\n",
    "sns.barplot(x=['F1-Score'], y=[f1])\n",
    "plt.title('F1 Score of the Model')\n",
    "plt.ylim(0, 1)\n",
    "plt.show()"
   ]
  },
  {
   "cell_type": "markdown",
   "id": "c731e646-2ea7-43d8-be0d-d6d523534383",
   "metadata": {
    "jp-MarkdownHeadingCollapsed": true,
    "tags": []
   },
   "source": [
    "# NOT FOR MILESTONE 1\n",
    "We will try to tune the hyperparameters of the RF Model to check if the models performance can be improved:"
   ]
  },
  {
   "cell_type": "code",
   "execution_count": 85,
   "id": "e732b763-7ec2-4d66-bd60-8acabb37296c",
   "metadata": {
    "tags": []
   },
   "outputs": [
    {
     "name": "stdout",
     "output_type": "stream",
     "text": [
      "Best hyperparameters: RandomForestClassifier(max_depth=19, n_estimators=264, random_state=42)\n"
     ]
    }
   ],
   "source": [
    "param_dist = {'n_estimators': randint(50,500), 'max_depth': randint(1,20)}\n",
    "\n",
    "rf=RandomForestClassifier(random_state=42)\n",
    "\n",
    "rand_search = RandomizedSearchCV(rf, param_distributions = param_dist, n_iter=5, cv=5, random_state=42, scoring='accuracy')\n",
    "\n",
    "rand_search.fit(X_train,y_train)\n",
    "\n",
    "best_rf = rand_search.best_estimator_\n",
    "\n",
    "print(\"Best hyperparameters:\", best_rf)"
   ]
  },
  {
   "cell_type": "code",
   "execution_count": 86,
   "id": "4c38ff23-edc5-4e7d-a204-caba019f450e",
   "metadata": {
    "tags": []
   },
   "outputs": [
    {
     "name": "stdout",
     "output_type": "stream",
     "text": [
      "Classification Report:\n",
      "               precision    recall  f1-score   support\n",
      "\n",
      "         0.0       0.95      0.98      0.96       531\n",
      "         1.0       0.97      0.92      0.94       390\n",
      "\n",
      "    accuracy                           0.95       921\n",
      "   macro avg       0.96      0.95      0.95       921\n",
      "weighted avg       0.95      0.95      0.95       921\n",
      "\n",
      "Accuracy: 0.9543973941368078\n"
     ]
    },
    {
     "data": {
      "image/png": "[encoded data removed]",
      "text/plain": [
       "<Figure size 800x600 with 2 Axes>"
      ]
     },
     "metadata": {},
     "output_type": "display_data"
    },
    {
     "data": {
      "image/png": "[encoded data removed]",
      "text/plain": [
       "<Figure size 600x400 with 1 Axes>"
      ]
     },
     "metadata": {},
     "output_type": "display_data"
    }
   ],
   "source": [
    "\n",
    "# Assuming rand_search has been fitted and best_rf has been identified\n",
    "# Predict on the test set using the best estimator\n",
    "y_pred = best_rf.predict(X_test)\n",
    "\n",
    "# Calculate the F1 score (weighted, because of class imbalance)\n",
    "f1 = f1_score(y_test, y_pred, average='weighted')\n",
    "\n",
    "# Calculate the overall accuracy\n",
    "accuracy = accuracy_score(y_test, y_pred)\n",
    "\n",
    "# Generate the classification report\n",
    "class_report = classification_report(y_test, y_pred)\n",
    "\n",
    "# Generate the confusion matrix\n",
    "conf_matrix = confusion_matrix(y_test, y_pred)\n",
    "\n",
    "# Print the classification report and accuracy\n",
    "print(\"Classification Report:\\n\", class_report)\n",
    "print(\"Accuracy:\", accuracy)\n",
    "\n",
    "# Plot the confusion matrix\n",
    "plt.figure(figsize=(8, 6))\n",
    "sns.heatmap(conf_matrix, annot=True, fmt='g', cmap='Blues', xticklabels=['Not Spam', 'Spam'], yticklabels=['Not Spam', 'Spam'])\n",
    "plt.title('Confusion Matrix')\n",
    "plt.ylabel('Actual Label')\n",
    "plt.xlabel('Predicted Label')\n",
    "plt.show()\n",
    "\n",
    "# Plot the F1-score\n",
    "plt.figure(figsize=(6, 4))\n",
    "sns.barplot(x=['F1-Score'], y=[f1])\n",
    "plt.title('F1-Score of the Model')\n",
    "plt.show()\n"
   ]
  }
 ],
 "metadata": {
  "kernelspec": {
   "display_name": "Python 3 (ipykernel)",
   "language": "python",
   "name": "python3"
  },
  "language_info": {
   "codemirror_mode": {
    "name": "ipython",
    "version": 3
   },
   "file_extension": ".py",
   "mimetype": "text/x-python",
   "name": "python",
   "nbconvert_exporter": "python",
   "pygments_lexer": "ipython3",
   "version": "3.11.5"
  }
 },
 "nbformat": 4,
 "nbformat_minor": 5
}
